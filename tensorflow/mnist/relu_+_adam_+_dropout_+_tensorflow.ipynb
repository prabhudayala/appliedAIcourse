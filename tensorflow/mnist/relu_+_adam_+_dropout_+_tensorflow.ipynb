{
  "nbformat": 4,
  "nbformat_minor": 0,
  "metadata": {
    "colab": {
      "name": "relu + adam + dropout + tensorflow",
      "version": "0.3.2",
      "provenance": [],
      "collapsed_sections": []
    },
    "kernelspec": {
      "name": "python3",
      "display_name": "Python 3"
    }
  },
  "cells": [
    {
      "metadata": {
        "id": "U0YHHRkozFJ1",
        "colab_type": "code",
        "outputId": "6f46053a-9849-4c1d-fc21-8742658d7176",
        "colab": {
          "base_uri": "https://localhost:8080/",
          "height": 411
        }
      },
      "cell_type": "code",
      "source": [
        "from tensorflow.examples.tutorials.mnist import input_data\n",
        "mnist=input_data.read_data_sets(\"MNIST_data/\",one_hot=True)"
      ],
      "execution_count": 0,
      "outputs": [
        {
          "output_type": "stream",
          "text": [
            "WARNING:tensorflow:From <ipython-input-1-e2665669a07a>:2: read_data_sets (from tensorflow.contrib.learn.python.learn.datasets.mnist) is deprecated and will be removed in a future version.\n",
            "Instructions for updating:\n",
            "Please use alternatives such as official/mnist/dataset.py from tensorflow/models.\n",
            "WARNING:tensorflow:From /usr/local/lib/python3.6/dist-packages/tensorflow/contrib/learn/python/learn/datasets/mnist.py:260: maybe_download (from tensorflow.contrib.learn.python.learn.datasets.base) is deprecated and will be removed in a future version.\n",
            "Instructions for updating:\n",
            "Please write your own downloading logic.\n",
            "WARNING:tensorflow:From /usr/local/lib/python3.6/dist-packages/tensorflow/contrib/learn/python/learn/datasets/mnist.py:262: extract_images (from tensorflow.contrib.learn.python.learn.datasets.mnist) is deprecated and will be removed in a future version.\n",
            "Instructions for updating:\n",
            "Please use tf.data to implement this functionality.\n",
            "Extracting MNIST_data/train-images-idx3-ubyte.gz\n",
            "WARNING:tensorflow:From /usr/local/lib/python3.6/dist-packages/tensorflow/contrib/learn/python/learn/datasets/mnist.py:267: extract_labels (from tensorflow.contrib.learn.python.learn.datasets.mnist) is deprecated and will be removed in a future version.\n",
            "Instructions for updating:\n",
            "Please use tf.data to implement this functionality.\n",
            "Extracting MNIST_data/train-labels-idx1-ubyte.gz\n",
            "WARNING:tensorflow:From /usr/local/lib/python3.6/dist-packages/tensorflow/contrib/learn/python/learn/datasets/mnist.py:110: dense_to_one_hot (from tensorflow.contrib.learn.python.learn.datasets.mnist) is deprecated and will be removed in a future version.\n",
            "Instructions for updating:\n",
            "Please use tf.one_hot on tensors.\n",
            "Extracting MNIST_data/t10k-images-idx3-ubyte.gz\n",
            "Extracting MNIST_data/t10k-labels-idx1-ubyte.gz\n",
            "WARNING:tensorflow:From /usr/local/lib/python3.6/dist-packages/tensorflow/contrib/learn/python/learn/datasets/mnist.py:290: DataSet.__init__ (from tensorflow.contrib.learn.python.learn.datasets.mnist) is deprecated and will be removed in a future version.\n",
            "Instructions for updating:\n",
            "Please use alternatives such as official/mnist/dataset.py from tensorflow/models.\n"
          ],
          "name": "stdout"
        }
      ]
    },
    {
      "metadata": {
        "id": "bKgucrv1zGag",
        "colab_type": "code",
        "colab": {}
      },
      "cell_type": "code",
      "source": [
        "n_input=784\n",
        "n_output=10\n",
        "n_hidden_1=512\n",
        "n_hidden_2=128"
      ],
      "execution_count": 0,
      "outputs": []
    },
    {
      "metadata": {
        "id": "6eXvh0fQzKD6",
        "colab_type": "code",
        "colab": {}
      },
      "cell_type": "code",
      "source": [
        "import tensorflow as tf\n",
        "x=tf.placeholder(tf.float32,[None,784])\n",
        "y_=tf.placeholder(tf.float32,[None,10])"
      ],
      "execution_count": 0,
      "outputs": []
    },
    {
      "metadata": {
        "id": "4AIozbNKzLz6",
        "colab_type": "code",
        "colab": {}
      },
      "cell_type": "code",
      "source": [
        "weights_relu = {\n",
        "    'h1': tf.Variable(tf.random_normal([n_input, n_hidden_1],stddev=0.062, mean=0)),    #784x512\n",
        "    'h2': tf.Variable(tf.random_normal([n_hidden_1, n_hidden_2],stddev=0.125, mean=0)), #512x128\n",
        "    'out': tf.Variable(tf.random_normal([n_hidden_2, n_output],stddev=0.120, mean=0))  #128x10\n",
        "}\n",
        "biases = {\n",
        "    'b1': tf.Variable(tf.random_normal([n_hidden_1])),             #512x1\n",
        "    'b2': tf.Variable(tf.random_normal([n_hidden_2])),             #128x1\n",
        "    'out': tf.Variable(tf.random_normal([n_output]))              #10x1\n",
        "}"
      ],
      "execution_count": 0,
      "outputs": []
    },
    {
      "metadata": {
        "id": "0ovaQeRrzNss",
        "colab_type": "code",
        "colab": {}
      },
      "cell_type": "code",
      "source": [
        "epoch=15\n",
        "batch_size=128"
      ],
      "execution_count": 0,
      "outputs": []
    },
    {
      "metadata": {
        "id": "vDkK7IhYzPqh",
        "colab_type": "code",
        "colab": {}
      },
      "cell_type": "code",
      "source": [
        "def multilayer_perceptron_dropout(x,weights,biases,drop_out_prob=0.5):\n",
        "  layer_1=tf.add(tf.matmul(x,weights['h1']),biases['b1'])\n",
        "  layer_1=tf.nn.relu(layer_1)\n",
        "  #dropout layer 1\n",
        "  layer_1_drop=tf.nn.dropout(layer_1,drop_out_prob)\n",
        "  \n",
        "  layer_2=tf.add(tf.matmul(layer_1_drop,weights['h2']),biases['b2'])\n",
        "  layer_2=tf.nn.relu(layer_2)\n",
        "  #dropout layer 2\n",
        "  layer_2_drop=tf.nn.dropout(layer_2,drop_out_prob)\n",
        "  \n",
        "  layer_out=tf.add(tf.matmul(layer_2_drop,weights['out']),biases['out'])\n",
        "  layer_out=tf.nn.sigmoid(layer_out)\n",
        "  return layer_out"
      ],
      "execution_count": 0,
      "outputs": []
    },
    {
      "metadata": {
        "id": "mcNPSQw1z7k0",
        "colab_type": "code",
        "outputId": "0117469a-7032-4131-940c-842451fbf31d",
        "colab": {
          "base_uri": "https://localhost:8080/",
          "height": 173
        }
      },
      "cell_type": "code",
      "source": [
        "y_hat= multilayer_perceptron_dropout(x,weights_relu,biases)\n",
        "loss=tf.reduce_mean(tf.nn.softmax_cross_entropy_with_logits(logits=y_hat,labels=y_))\n",
        "optimize=tf.train.AdamOptimizer().minimize(loss)"
      ],
      "execution_count": 0,
      "outputs": [
        {
          "output_type": "stream",
          "text": [
            "WARNING:tensorflow:From <ipython-input-9-2dbe91a42b48>:2: softmax_cross_entropy_with_logits (from tensorflow.python.ops.nn_ops) is deprecated and will be removed in a future version.\n",
            "Instructions for updating:\n",
            "\n",
            "Future major versions of TensorFlow will allow gradients to flow\n",
            "into the labels input on backprop by default.\n",
            "\n",
            "See `tf.nn.softmax_cross_entropy_with_logits_v2`.\n",
            "\n"
          ],
          "name": "stdout"
        }
      ]
    },
    {
      "metadata": {
        "id": "au9pWHmL0B6n",
        "colab_type": "code",
        "outputId": "a1d86f20-2743-459e-a333-c0949a834d21",
        "colab": {
          "base_uri": "https://localhost:8080/",
          "height": 170
        }
      },
      "cell_type": "code",
      "source": [
        "with tf.Session() as sess:\n",
        "  tf.global_variables_initializer().run()\n",
        "  xs,ytrs,ytes=[],[],[]\n",
        "  for e in range(epoch):\n",
        "    train_avg_cost = 0.\n",
        "    test_avg_cost = 0.\n",
        "    total_number_of_batch=int(mnist.train.num_examples/batch_size)\n",
        "    for _ in range(total_number_of_batch):\n",
        "      x_batch,y_batch=mnist.train.next_batch(batch_size)\n",
        "      c,optm,bs,w=sess.run([loss,optimize,biases,weights_relu],feed_dict={x: x_batch, y_: y_batch})\n",
        "      train_avg_cost += c / total_number_of_batch\n",
        "      c = sess.run(loss, feed_dict={x: mnist.test.images, y_: mnist.test.labels})\n",
        "      test_avg_cost += c / total_number_of_batch\n",
        "    xs.append(e)\n",
        "    ytrs.append(train_avg_cost)\n",
        "    ytes.append(test_avg_cost)\n",
        "    #plt_dynamic(xs, ytrs, ytes, ax, np.arange(1.3, 1.8, step=0.04), \"input-sigmoid(512)-sigmoid(128)-sigmoid(output)-AdamOptimizer\")\n",
        "\n",
        "    if e%2 == 0:\n",
        "            print(\"Epoch:\", '%04d' % (e+1), \"train cost={:.9f}\".format(train_avg_cost), \"test cost={:.9f}\".format(test_avg_cost))\n",
        "\n",
        "  correct_prediction = tf.equal(tf.argmax(y_hat,1), tf.argmax(y_,1))\n",
        "  accuracy = tf.reduce_mean(tf.cast(correct_prediction, tf.float32))\n",
        "  print(\"Accuracy:\", accuracy.eval({x: mnist.test.images, y_: mnist.test.labels}))"
      ],
      "execution_count": 0,
      "outputs": [
        {
          "output_type": "stream",
          "text": [
            "Epoch: 0001 train cost=1.693363787 test cost=1.685120065\n",
            "Epoch: 0003 train cost=1.529393184 test cost=1.528369579\n",
            "Epoch: 0005 train cost=1.510170869 test cost=1.510496092\n",
            "Epoch: 0007 train cost=1.500690353 test cost=1.502673197\n",
            "Epoch: 0009 train cost=1.494549587 test cost=1.498065851\n",
            "Epoch: 0011 train cost=1.490061426 test cost=1.494896573\n",
            "Epoch: 0013 train cost=1.488231432 test cost=1.493435623\n",
            "Epoch: 0015 train cost=1.485962940 test cost=1.492471010\n",
            "Accuracy: 0.9642\n"
          ],
          "name": "stdout"
        }
      ]
    },
    {
      "metadata": {
        "id": "gxvllVJY0XwW",
        "colab_type": "code",
        "outputId": "b8d2336f-09b8-4a19-f994-e2409ec9dd91",
        "colab": {
          "base_uri": "https://localhost:8080/",
          "height": 434
        }
      },
      "cell_type": "code",
      "source": [
        "import seaborn as sns\n",
        "import matplotlib.pyplot as plt\n",
        "import numpy as np\n",
        "h1_w = w['h1'].flatten().reshape(-1,1)\n",
        "h2_w = w['h2'].flatten().reshape(-1,1)\n",
        "out_w = w['out'].flatten().reshape(-1,1)\n",
        "\n",
        "\n",
        "fig = plt.figure()\n",
        "plt.subplot(1, 3, 1)\n",
        "plt.title(\"Weight matrix\")\n",
        "ax = sns.violinplot(y=h1_w,color='b')\n",
        "plt.xlabel('Hidden Layer 1')\n",
        "\n",
        "plt.subplot(1, 3, 2)\n",
        "plt.title(\"Weight matrix \")\n",
        "ax = sns.violinplot(y=h2_w, color='r')\n",
        "plt.xlabel('Hidden Layer 2 ')\n",
        "\n",
        "plt.subplot(1, 3, 3)\n",
        "plt.title(\"Weight matrix \")\n",
        "ax = sns.violinplot(y=out_w,color='y')\n",
        "plt.xlabel('Output Layer ')\n",
        "plt.show()"
      ],
      "execution_count": 0,
      "outputs": [
        {
          "output_type": "stream",
          "text": [
            "/usr/local/lib/python3.6/dist-packages/seaborn/categorical.py:588: FutureWarning: remove_na is deprecated and is a private function. Do not use.\n",
            "  kde_data = remove_na(group_data)\n",
            "/usr/local/lib/python3.6/dist-packages/seaborn/categorical.py:816: FutureWarning: remove_na is deprecated and is a private function. Do not use.\n",
            "  violin_data = remove_na(group_data)\n"
          ],
          "name": "stderr"
        },
        {
          "output_type": "display_data",
          "data": {
            "image/png": "[encoded data removed]",
            "text/plain": [
              "<matplotlib.figure.Figure at 0x7f7b2b20cac8>"
            ]
          },
          "metadata": {
            "tags": []
          }
        }
      ]
    },
    {
      "metadata": {
        "id": "LmvGx_Nt6TgA",
        "colab_type": "code",
        "colab": {}
      },
      "cell_type": "code",
      "source": [
        ""
      ],
      "execution_count": 0,
      "outputs": []
    }
  ]
}