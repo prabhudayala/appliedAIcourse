{
  "nbformat": 4,
  "nbformat_minor": 0,
  "metadata": {
    "colab": {
      "name": "relu + adam + batch normalization + tensorflow",
      "version": "0.3.2",
      "provenance": [],
      "collapsed_sections": []
    },
    "kernelspec": {
      "name": "python3",
      "display_name": "Python 3"
    }
  },
  "cells": [
    {
      "metadata": {
        "id": "JHeaOcKPq9XG",
        "colab_type": "code",
        "outputId": "a4f95a0f-9ba1-4b65-ce30-752e5926a6c7",
        "colab": {
          "base_uri": "https://localhost:8080/",
          "height": 411
        }
      },
      "cell_type": "code",
      "source": [
        "from tensorflow.examples.tutorials.mnist import input_data\n",
        "mnist=input_data.read_data_sets(\"MNIST_data/\",one_hot=True)"
      ],
      "execution_count": 0,
      "outputs": [
        {
          "output_type": "stream",
          "text": [
            "WARNING:tensorflow:From <ipython-input-1-e2665669a07a>:2: read_data_sets (from tensorflow.contrib.learn.python.learn.datasets.mnist) is deprecated and will be removed in a future version.\n",
            "Instructions for updating:\n",
            "Please use alternatives such as official/mnist/dataset.py from tensorflow/models.\n",
            "WARNING:tensorflow:From /usr/local/lib/python3.6/dist-packages/tensorflow/contrib/learn/python/learn/datasets/mnist.py:260: maybe_download (from tensorflow.contrib.learn.python.learn.datasets.base) is deprecated and will be removed in a future version.\n",
            "Instructions for updating:\n",
            "Please write your own downloading logic.\n",
            "WARNING:tensorflow:From /usr/local/lib/python3.6/dist-packages/tensorflow/contrib/learn/python/learn/datasets/mnist.py:262: extract_images (from tensorflow.contrib.learn.python.learn.datasets.mnist) is deprecated and will be removed in a future version.\n",
            "Instructions for updating:\n",
            "Please use tf.data to implement this functionality.\n",
            "Extracting MNIST_data/train-images-idx3-ubyte.gz\n",
            "WARNING:tensorflow:From /usr/local/lib/python3.6/dist-packages/tensorflow/contrib/learn/python/learn/datasets/mnist.py:267: extract_labels (from tensorflow.contrib.learn.python.learn.datasets.mnist) is deprecated and will be removed in a future version.\n",
            "Instructions for updating:\n",
            "Please use tf.data to implement this functionality.\n",
            "Extracting MNIST_data/train-labels-idx1-ubyte.gz\n",
            "WARNING:tensorflow:From /usr/local/lib/python3.6/dist-packages/tensorflow/contrib/learn/python/learn/datasets/mnist.py:110: dense_to_one_hot (from tensorflow.contrib.learn.python.learn.datasets.mnist) is deprecated and will be removed in a future version.\n",
            "Instructions for updating:\n",
            "Please use tf.one_hot on tensors.\n",
            "Extracting MNIST_data/t10k-images-idx3-ubyte.gz\n",
            "Extracting MNIST_data/t10k-labels-idx1-ubyte.gz\n",
            "WARNING:tensorflow:From /usr/local/lib/python3.6/dist-packages/tensorflow/contrib/learn/python/learn/datasets/mnist.py:290: DataSet.__init__ (from tensorflow.contrib.learn.python.learn.datasets.mnist) is deprecated and will be removed in a future version.\n",
            "Instructions for updating:\n",
            "Please use alternatives such as official/mnist/dataset.py from tensorflow/models.\n"
          ],
          "name": "stdout"
        }
      ]
    },
    {
      "metadata": {
        "id": "EswfkqgArDvw",
        "colab_type": "code",
        "colab": {}
      },
      "cell_type": "code",
      "source": [
        "n_input=784\n",
        "n_output=10\n",
        "n_hidden_1=512\n",
        "n_hidden_2=128"
      ],
      "execution_count": 0,
      "outputs": []
    },
    {
      "metadata": {
        "id": "hgLAtIeTrG_S",
        "colab_type": "code",
        "colab": {}
      },
      "cell_type": "code",
      "source": [
        "import tensorflow as tf\n",
        "x=tf.placeholder(tf.float32,[None,784])\n",
        "y_=tf.placeholder(tf.float32,[None,10])"
      ],
      "execution_count": 0,
      "outputs": []
    },
    {
      "metadata": {
        "id": "4rj2MenArI3j",
        "colab_type": "code",
        "colab": {}
      },
      "cell_type": "code",
      "source": [
        "weights_relu = {\n",
        "    'h1': tf.Variable(tf.random_normal([n_input, n_hidden_1],stddev=0.062, mean=0)),    #784x512\n",
        "    'h2': tf.Variable(tf.random_normal([n_hidden_1, n_hidden_2],stddev=0.125, mean=0)), #512x128\n",
        "    'out': tf.Variable(tf.random_normal([n_hidden_2, n_output],stddev=0.120, mean=0))  #128x10\n",
        "}\n",
        "biases = {\n",
        "    'b1': tf.Variable(tf.random_normal([n_hidden_1])),             #512x1\n",
        "    'b2': tf.Variable(tf.random_normal([n_hidden_2])),             #128x1\n",
        "    'out': tf.Variable(tf.random_normal([n_output]))              #10x1\n",
        "}"
      ],
      "execution_count": 0,
      "outputs": []
    },
    {
      "metadata": {
        "id": "tRW1vFTNtsxT",
        "colab_type": "code",
        "colab": {}
      },
      "cell_type": "code",
      "source": [
        "epoch=15\n",
        "batch_size=128"
      ],
      "execution_count": 0,
      "outputs": []
    },
    {
      "metadata": {
        "id": "wvfkv6j9rMJ2",
        "colab_type": "code",
        "colab": {}
      },
      "cell_type": "code",
      "source": [
        "def multilayer_perceptron(x,weights,biases):\n",
        "  layer_1=tf.add(tf.matmul(x,weights['h1']),biases['b1'])\n",
        "  layer_1=tf.nn.relu(layer_1)\n",
        "  layer_2=tf.add(tf.matmul(layer_1,weights['h2']),biases['b2'])\n",
        "  #batch normalization\n",
        "  batch_mean_2,batch_var_2=tf.nn.moments(layer_2,[0])\n",
        "  scale_2=tf.Variable(tf.ones([n_hidden_2]))\n",
        "  beta_2=tf.Variable(tf.ones([n_hidden_2]))\n",
        "  layer_2=tf.nn.batch_normalization(layer_2,batch_mean_2,batch_var_2,beta_2,scale_2,1e-3)\n",
        "  \n",
        "  layer_2=tf.nn.relu(layer_2)\n",
        "  layer_out=tf.add(tf.matmul(layer_2,weights['out']),biases['out'])\n",
        "  layer_out=tf.nn.sigmoid(layer_out)\n",
        "  return layer_out"
      ],
      "execution_count": 0,
      "outputs": []
    },
    {
      "metadata": {
        "id": "8Pq7_UdntIoH",
        "colab_type": "code",
        "colab": {}
      },
      "cell_type": "code",
      "source": [
        "y_hat= multilayer_perceptron(x,weights_relu,biases)"
      ],
      "execution_count": 0,
      "outputs": []
    },
    {
      "metadata": {
        "id": "iYRiPptxtcQ7",
        "colab_type": "code",
        "colab": {}
      },
      "cell_type": "code",
      "source": [
        "loss=tf.reduce_mean(tf.nn.softmax_cross_entropy_with_logits(logits=y_hat,labels=y_))"
      ],
      "execution_count": 0,
      "outputs": []
    },
    {
      "metadata": {
        "id": "A-6Zw39qtfYY",
        "colab_type": "code",
        "colab": {}
      },
      "cell_type": "code",
      "source": [
        "optimize=tf.train.AdamOptimizer().minimize(loss)"
      ],
      "execution_count": 0,
      "outputs": []
    },
    {
      "metadata": {
        "id": "C6VVkKWttgSM",
        "colab_type": "code",
        "outputId": "823409ac-6d7f-490f-c66a-c091a981ee62",
        "colab": {
          "base_uri": "https://localhost:8080/",
          "height": 170
        }
      },
      "cell_type": "code",
      "source": [
        "with tf.Session() as sess:\n",
        "  tf.global_variables_initializer().run()\n",
        "  xs,ytrs,ytes=[],[],[]\n",
        "  for e in range(epoch):\n",
        "    train_avg_cost = 0.\n",
        "    test_avg_cost = 0.\n",
        "    total_number_of_batch=int(mnist.train.num_examples/batch_size)\n",
        "    for _ in range(total_number_of_batch):\n",
        "      x_batch,y_batch=mnist.train.next_batch(batch_size)\n",
        "      c,optm,bs,w=sess.run([loss,optimize,biases,weights_relu],feed_dict={x: x_batch, y_: y_batch})\n",
        "      train_avg_cost += c / total_number_of_batch\n",
        "      c = sess.run(loss, feed_dict={x: mnist.test.images, y_: mnist.test.labels})\n",
        "      test_avg_cost += c / total_number_of_batch\n",
        "    xs.append(e)\n",
        "    ytrs.append(train_avg_cost)\n",
        "    ytes.append(test_avg_cost)\n",
        "    #plt_dynamic(xs, ytrs, ytes, ax, np.arange(1.3, 1.8, step=0.04), \"input-sigmoid(512)-sigmoid(128)-sigmoid(output)-AdamOptimizer\")\n",
        "\n",
        "    if e%2 == 0:\n",
        "            print(\"Epoch:\", '%04d' % (e+1), \"train cost={:.9f}\".format(train_avg_cost), \"test cost={:.9f}\".format(test_avg_cost))\n",
        "\n",
        "  correct_prediction = tf.equal(tf.argmax(y_hat,1), tf.argmax(y_,1))\n",
        "  accuracy = tf.reduce_mean(tf.cast(correct_prediction, tf.float32))\n",
        "  print(\"Accuracy:\", accuracy.eval({x: mnist.test.images, y_: mnist.test.labels}))"
      ],
      "execution_count": 0,
      "outputs": [
        {
          "output_type": "stream",
          "text": [
            "Epoch: 0001 train cost=1.562310823 test cost=1.554507869\n",
            "Epoch: 0003 train cost=1.482185302 test cost=1.486480579\n",
            "Epoch: 0005 train cost=1.472945239 test cost=1.481832218\n",
            "Epoch: 0007 train cost=1.469065816 test cost=1.480627724\n",
            "Epoch: 0009 train cost=1.467251717 test cost=1.479531806\n",
            "Epoch: 0011 train cost=1.466553091 test cost=1.479901335\n",
            "Epoch: 0013 train cost=1.465284585 test cost=1.479154945\n",
            "Epoch: 0015 train cost=1.464088870 test cost=1.478414991\n",
            "Accuracy: 0.9825\n"
          ],
          "name": "stdout"
        }
      ]
    },
    {
      "metadata": {
        "id": "twqRLMDxtjtE",
        "colab_type": "code",
        "outputId": "61de3ebc-47c4-47c2-ed70-7c72d90680f4",
        "colab": {
          "base_uri": "https://localhost:8080/",
          "height": 434
        }
      },
      "cell_type": "code",
      "source": [
        "import seaborn as sns\n",
        "import matplotlib.pyplot as plt\n",
        "import numpy as np\n",
        "h1_w = w['h1'].flatten().reshape(-1,1)\n",
        "h2_w = w['h2'].flatten().reshape(-1,1)\n",
        "out_w = w['out'].flatten().reshape(-1,1)\n",
        "\n",
        "\n",
        "fig = plt.figure()\n",
        "plt.subplot(1, 3, 1)\n",
        "plt.title(\"Weight matrix\")\n",
        "ax = sns.violinplot(y=h1_w,color='b')\n",
        "plt.xlabel('Hidden Layer 1')\n",
        "\n",
        "plt.subplot(1, 3, 2)\n",
        "plt.title(\"Weight matrix \")\n",
        "ax = sns.violinplot(y=h2_w, color='r')\n",
        "plt.xlabel('Hidden Layer 2 ')\n",
        "\n",
        "plt.subplot(1, 3, 3)\n",
        "plt.title(\"Weight matrix \")\n",
        "ax = sns.violinplot(y=out_w,color='y')\n",
        "plt.xlabel('Output Layer ')\n",
        "plt.show()"
      ],
      "execution_count": 0,
      "outputs": [
        {
          "output_type": "stream",
          "text": [
            "/usr/local/lib/python3.6/dist-packages/seaborn/categorical.py:588: FutureWarning: remove_na is deprecated and is a private function. Do not use.\n",
            "  kde_data = remove_na(group_data)\n",
            "/usr/local/lib/python3.6/dist-packages/seaborn/categorical.py:816: FutureWarning: remove_na is deprecated and is a private function. Do not use.\n",
            "  violin_data = remove_na(group_data)\n"
          ],
          "name": "stderr"
        },
        {
          "output_type": "display_data",
          "data": {
            "image/png": "[encoded data removed]",
            "text/plain": [
              "<matplotlib.figure.Figure at 0x7ff0393445c0>"
            ]
          },
          "metadata": {
            "tags": []
          }
        }
      ]
    },
    {
      "metadata": {
        "id": "mZm4FPrRyj0E",
        "colab_type": "code",
        "colab": {}
      },
      "cell_type": "code",
      "source": [
        ""
      ],
      "execution_count": 0,
      "outputs": []
    }
  ]
}