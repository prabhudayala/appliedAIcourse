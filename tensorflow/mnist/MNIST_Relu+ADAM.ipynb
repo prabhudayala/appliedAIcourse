{
  "nbformat": 4,
  "nbformat_minor": 0,
  "metadata": {
    "colab": {
      "name": "MNIST Relu+ADAM",
      "version": "0.3.2",
      "provenance": []
    },
    "kernelspec": {
      "name": "python3",
      "display_name": "Python 3"
    }
  },
  "cells": [
    {
      "metadata": {
        "id": "b85TRkTXUbvk",
        "colab_type": "code",
        "outputId": "c480a626-77a2-4066-9a98-5fb364dd5fcb",
        "colab": {
          "base_uri": "https://localhost:8080/",
          "height": 85
        }
      },
      "cell_type": "code",
      "source": [
        "from tensorflow.examples.tutorials.mnist import input_data\n",
        "mnist=input_data.read_data_sets(\"MNIST_data/\",one_hot=True)\n"
      ],
      "execution_count": 0,
      "outputs": [
        {
          "output_type": "stream",
          "text": [
            "Extracting MNIST_data/train-images-idx3-ubyte.gz\n",
            "Extracting MNIST_data/train-labels-idx1-ubyte.gz\n",
            "Extracting MNIST_data/t10k-images-idx3-ubyte.gz\n",
            "Extracting MNIST_data/t10k-labels-idx1-ubyte.gz\n"
          ],
          "name": "stdout"
        }
      ]
    },
    {
      "metadata": {
        "id": "bZBRNmMlVdAp",
        "colab_type": "code",
        "colab": {}
      },
      "cell_type": "code",
      "source": [
        "n_input=784\n",
        "n_output=10\n",
        "n_hidden_1=512\n",
        "n_hidden_2=128"
      ],
      "execution_count": 0,
      "outputs": []
    },
    {
      "metadata": {
        "id": "bZZRr7eBVrl3",
        "colab_type": "code",
        "colab": {}
      },
      "cell_type": "code",
      "source": [
        "import tensorflow as tf\n",
        "x=tf.placeholder(tf.float32,[None,784])\n",
        "y_=tf.placeholder(tf.float32,[None,10])"
      ],
      "execution_count": 0,
      "outputs": []
    },
    {
      "metadata": {
        "id": "AwpxlK1MWC0C",
        "colab_type": "code",
        "colab": {}
      },
      "cell_type": "code",
      "source": [
        "weights_relu = {\n",
        "    'h1': tf.Variable(tf.random_normal([n_input, n_hidden_1],stddev=0.062, mean=0)),    #784x512\n",
        "    'h2': tf.Variable(tf.random_normal([n_hidden_1, n_hidden_2],stddev=0.125, mean=0)), #512x128\n",
        "    'out': tf.Variable(tf.random_normal([n_hidden_2, n_output],stddev=0.120, mean=0))  #128x10\n",
        "}\n",
        "biases = {\n",
        "    'b1': tf.Variable(tf.random_normal([n_hidden_1])),             #512x1\n",
        "    'b2': tf.Variable(tf.random_normal([n_hidden_2])),             #128x1\n",
        "    'out': tf.Variable(tf.random_normal([n_output]))              #10x1\n",
        "}"
      ],
      "execution_count": 0,
      "outputs": []
    },
    {
      "metadata": {
        "id": "yvLKA5soWLHt",
        "colab_type": "code",
        "colab": {}
      },
      "cell_type": "code",
      "source": [
        "epoch=15\n",
        "batch_size=128"
      ],
      "execution_count": 0,
      "outputs": []
    },
    {
      "metadata": {
        "id": "NQskdKUUWhoN",
        "colab_type": "code",
        "colab": {}
      },
      "cell_type": "code",
      "source": [
        "def multilayer_perceptron(x,weights,biases):\n",
        "#   layer_1=tf.add(tf.matmul(x,weights['h1']),biases['b1'])\n",
        "#   layer_1=tf.nn.relu(layer_1)\n",
        "#   layer_2=tf.add(tf.matmul(layer_1,weights['h2']),biases['b2'])\n",
        "#   layer_2=tf.nn.relu(layer_2)\n",
        "#   layer_out=tf.add(tf.matmul(layer_2,weights['out']),biases['out'])\n",
        "#   layer_out=tf.nn.sigmoid(layer_out)\n",
        "  return tf.nn.sigmoid(tf.add(tf.matmul(tf.nn.relu(tf.add(tf.matmul(tf.nn.relu(tf.add(tf.matmul(x,weights['h1']),biases['b1'])),weights['h2']),biases['b2'])),weights['out']),biases['out']))"
      ],
      "execution_count": 0,
      "outputs": []
    },
    {
      "metadata": {
        "id": "UxieKvmeX3fM",
        "colab_type": "code",
        "colab": {}
      },
      "cell_type": "code",
      "source": [
        "y_hat= multilayer_perceptron(x,weights_relu,biases)"
      ],
      "execution_count": 0,
      "outputs": []
    },
    {
      "metadata": {
        "id": "i5FpdlHbYAQU",
        "colab_type": "code",
        "colab": {}
      },
      "cell_type": "code",
      "source": [
        "loss=tf.reduce_mean(tf.nn.softmax_cross_entropy_with_logits(logits=y_hat,labels=y_))"
      ],
      "execution_count": 0,
      "outputs": []
    },
    {
      "metadata": {
        "id": "vwhfMfCQYhOT",
        "colab_type": "code",
        "colab": {}
      },
      "cell_type": "code",
      "source": [
        "optimize=tf.train.AdamOptimizer().minimize(loss)"
      ],
      "execution_count": 0,
      "outputs": []
    },
    {
      "metadata": {
        "id": "C7MI_VZyYvDM",
        "colab_type": "code",
        "outputId": "a9678a11-ce9b-4189-bf4e-ec00352cd921",
        "colab": {
          "base_uri": "https://localhost:8080/",
          "height": 170
        }
      },
      "cell_type": "code",
      "source": [
        "with tf.Session() as sess:\n",
        "  tf.global_variables_initializer().run()\n",
        "  xs,ytrs,ytes=[],[],[]\n",
        "  for e in range(epoch):\n",
        "    train_avg_cost = 0.\n",
        "    test_avg_cost = 0.\n",
        "    total_number_of_batch=int(mnist.train.num_examples/batch_size)\n",
        "    for _ in range(total_number_of_batch):\n",
        "      x_batch,y_batch=mnist.train.next_batch(batch_size)\n",
        "      c,optm,bs,w=sess.run([loss,optimize,biases,weights_relu],feed_dict={x: x_batch, y_: y_batch})\n",
        "      train_avg_cost += c / total_number_of_batch\n",
        "      c = sess.run(loss, feed_dict={x: mnist.test.images, y_: mnist.test.labels})\n",
        "      test_avg_cost += c / total_number_of_batch\n",
        "    xs.append(e)\n",
        "    ytrs.append(train_avg_cost)\n",
        "    ytes.append(test_avg_cost)\n",
        "    #plt_dynamic(xs, ytrs, ytes, ax, np.arange(1.3, 1.8, step=0.04), \"input-sigmoid(512)-sigmoid(128)-sigmoid(output)-AdamOptimizer\")\n",
        "\n",
        "    if e%2 == 0:\n",
        "            print(\"Epoch:\", '%04d' % (e+1), \"train cost={:.9f}\".format(train_avg_cost), \"test cost={:.9f}\".format(test_avg_cost))\n",
        "\n",
        "  correct_prediction = tf.equal(tf.argmax(y_hat,1), tf.argmax(y_,1))\n",
        "  accuracy = tf.reduce_mean(tf.cast(correct_prediction, tf.float32))\n",
        "  print(\"Accuracy:\", accuracy.eval({x: mnist.test.images, y_: mnist.test.labels}))"
      ],
      "execution_count": 0,
      "outputs": [
        {
          "output_type": "stream",
          "text": [
            "Epoch: 0001 train cost=1.563061564 test cost=1.557097359\n",
            "Epoch: 0003 train cost=1.490110281 test cost=1.493569227\n",
            "Epoch: 0005 train cost=1.479536591 test cost=1.486162575\n",
            "Epoch: 0007 train cost=1.474252731 test cost=1.483447229\n",
            "Epoch: 0009 train cost=1.471356475 test cost=1.481708676\n",
            "Epoch: 0011 train cost=1.469693501 test cost=1.480676581\n",
            "Epoch: 0013 train cost=1.468166800 test cost=1.480516887\n",
            "Epoch: 0015 train cost=1.467445928 test cost=1.480189919\n",
            "Accuracy: 0.9806\n"
          ],
          "name": "stdout"
        }
      ]
    },
    {
      "metadata": {
        "id": "cjtlsDPSc7ed",
        "colab_type": "code",
        "outputId": "8bbf6d23-e7a2-47a5-b075-dcb25389ccb8",
        "colab": {
          "base_uri": "https://localhost:8080/",
          "height": 434
        }
      },
      "cell_type": "code",
      "source": [
        "import seaborn as sns\n",
        "import matplotlib.pyplot as plt\n",
        "import numpy as np\n",
        "h1_w = w['h1'].flatten().reshape(-1,1)\n",
        "h2_w = w['h2'].flatten().reshape(-1,1)\n",
        "out_w = w['out'].flatten().reshape(-1,1)\n",
        "\n",
        "\n",
        "fig = plt.figure()\n",
        "plt.subplot(1, 3, 1)\n",
        "plt.title(\"Weight matrix\")\n",
        "ax = sns.violinplot(y=h1_w,color='b')\n",
        "plt.xlabel('Hidden Layer 1')\n",
        "\n",
        "plt.subplot(1, 3, 2)\n",
        "plt.title(\"Weight matrix \")\n",
        "ax = sns.violinplot(y=h2_w, color='r')\n",
        "plt.xlabel('Hidden Layer 2 ')\n",
        "\n",
        "plt.subplot(1, 3, 3)\n",
        "plt.title(\"Weight matrix \")\n",
        "ax = sns.violinplot(y=out_w,color='y')\n",
        "plt.xlabel('Output Layer ')\n",
        "plt.show()"
      ],
      "execution_count": 0,
      "outputs": [
        {
          "output_type": "stream",
          "text": [
            "/usr/local/lib/python3.6/dist-packages/seaborn/categorical.py:588: FutureWarning: remove_na is deprecated and is a private function. Do not use.\n",
            "  kde_data = remove_na(group_data)\n",
            "/usr/local/lib/python3.6/dist-packages/seaborn/categorical.py:816: FutureWarning: remove_na is deprecated and is a private function. Do not use.\n",
            "  violin_data = remove_na(group_data)\n"
          ],
          "name": "stderr"
        },
        {
          "output_type": "display_data",
          "data": {
            "image/png": "[encoded data removed]",
            "text/plain": [
              "<matplotlib.figure.Figure at 0x7f286a725dd8>"
            ]
          },
          "metadata": {
            "tags": []
          }
        }
      ]
    },
    {
      "metadata": {
        "id": "NBaRHdX-p3qk",
        "colab_type": "code",
        "colab": {}
      },
      "cell_type": "code",
      "source": [
        ""
      ],
      "execution_count": 0,
      "outputs": []
    }
  ]
}