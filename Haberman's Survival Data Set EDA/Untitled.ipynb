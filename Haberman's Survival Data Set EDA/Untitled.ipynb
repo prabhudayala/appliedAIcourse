{
 "cells": [
  {
   "cell_type": "code",
   "execution_count": 4,
   "metadata": {},
   "outputs": [
    {
     "name": "stdout",
     "output_type": "stream",
     "text": [
      "(4, 3)\n"
     ]
    }
   ],
   "source": [
    "import numpy as np\n",
    "x1=np.array([1,2,3])\n",
    "x2=np.array([11,12,13])\n",
    "x3=np.array([21,22,23])\n",
    "x4=np.array([31,32,33])\n",
    "x=np.vstack((x1,x2,x3,x4))\n",
    "import pandas as pd\n",
    "df=pd.DataFrame(x,columns=['one','two','three'])\n",
    "print(df.shape)\n",
    "y=np.array([0,0,1,1])"
   ]
  },
  {
   "cell_type": "code",
   "execution_count": 5,
   "metadata": {},
   "outputs": [
    {
     "data": {
      "text/html": [
       "<script type=\"text/javascript\">window.PlotlyConfig = {MathJaxConfig: 'local'};</script><script type=\"text/javascript\">if (window.MathJax) {MathJax.Hub.Config({SVG: {font: \"STIX-Web\"}});}</script><script>requirejs.config({paths: { 'plotly': ['https://cdn.plot.ly/plotly-latest.min']},});if(!window._Plotly) {require(['plotly'],function(plotly) {window._Plotly=plotly;});}</script>"
      ],
      "text/vnd.plotly.v1+html": [
       "<script type=\"text/javascript\">window.PlotlyConfig = {MathJaxConfig: 'local'};</script><script type=\"text/javascript\">if (window.MathJax) {MathJax.Hub.Config({SVG: {font: \"STIX-Web\"}});}</script><script>requirejs.config({paths: { 'plotly': ['https://cdn.plot.ly/plotly-latest.min']},});if(!window._Plotly) {require(['plotly'],function(plotly) {window._Plotly=plotly;});}</script>"
      ]
     },
     "metadata": {},
     "output_type": "display_data"
    }
   ],
   "source": [
    "import plotly as py\n",
    "import plotly.graph_objs as go\n",
    "py.offline.init_notebook_mode(connected=True)"
   ]
  },
  {
   "cell_type": "code",
   "execution_count": 6,
   "metadata": {},
   "outputs": [
    {
     "data": {
      "application/vnd.plotly.v1+json": {
       "data": [
        {
         "marker": {
          "color": [
           0,
           0,
           1,
           1
          ],
          "colorscale": "Viridis",
          "opacity": 0.8,
          "size": 12
         },
         "mode": "markers",
         "type": "scatter3d",
         "uid": "418ee4fb-9f6b-4aa4-9499-a94ec64f3c48",
         "x": [
          1,
          11,
          21,
          31
         ],
         "y": [
          2,
          12,
          22,
          32
         ],
         "z": [
          3,
          13,
          23,
          33
         ]
        }
       ],
       "layout": {
        "margin": {
         "b": 0,
         "l": 0,
         "r": 0,
         "t": 0
        }
       }
      },
      "text/html": [
       "<div id=\"f8156d66-f395-425a-8d7d-367a3cd8f5c5\" style=\"height: 525px; width: 100%;\" class=\"plotly-graph-div\"></div><script type=\"text/javascript\">require([\"plotly\"], function(Plotly) { window.PLOTLYENV=window.PLOTLYENV || {};window.PLOTLYENV.BASE_URL=\"https://plot.ly\";Plotly.newPlot(\"f8156d66-f395-425a-8d7d-367a3cd8f5c5\", [{\"marker\": {\"color\": [0, 0, 1, 1], \"colorscale\": \"Viridis\", \"opacity\": 0.8, \"size\": 12}, \"mode\": \"markers\", \"x\": [1, 11, 21, 31], \"y\": [2, 12, 22, 32], \"z\": [3, 13, 23, 33], \"type\": \"scatter3d\", \"uid\": \"418ee4fb-9f6b-4aa4-9499-a94ec64f3c48\"}], {\"margin\": {\"b\": 0, \"l\": 0, \"r\": 0, \"t\": 0}}, {\"showLink\": true, \"linkText\": \"Export to plot.ly\"})});</script><script type=\"text/javascript\">window.addEventListener(\"resize\", function(){window._Plotly.Plots.resize(document.getElementById(\"f8156d66-f395-425a-8d7d-367a3cd8f5c5\"));});</script>"
      ],
      "text/vnd.plotly.v1+html": [
       "<div id=\"f8156d66-f395-425a-8d7d-367a3cd8f5c5\" style=\"height: 525px; width: 100%;\" class=\"plotly-graph-div\"></div><script type=\"text/javascript\">require([\"plotly\"], function(Plotly) { window.PLOTLYENV=window.PLOTLYENV || {};window.PLOTLYENV.BASE_URL=\"https://plot.ly\";Plotly.newPlot(\"f8156d66-f395-425a-8d7d-367a3cd8f5c5\", [{\"marker\": {\"color\": [0, 0, 1, 1], \"colorscale\": \"Viridis\", \"opacity\": 0.8, \"size\": 12}, \"mode\": \"markers\", \"x\": [1, 11, 21, 31], \"y\": [2, 12, 22, 32], \"z\": [3, 13, 23, 33], \"type\": \"scatter3d\", \"uid\": \"418ee4fb-9f6b-4aa4-9499-a94ec64f3c48\"}], {\"margin\": {\"b\": 0, \"l\": 0, \"r\": 0, \"t\": 0}}, {\"showLink\": true, \"linkText\": \"Export to plot.ly\"})});</script><script type=\"text/javascript\">window.addEventListener(\"resize\", function(){window._Plotly.Plots.resize(document.getElementById(\"f8156d66-f395-425a-8d7d-367a3cd8f5c5\"));});</script>"
      ]
     },
     "metadata": {},
     "output_type": "display_data"
    }
   ],
   "source": [
    "trace1 = go.Scatter3d(\n",
    "    x=df['one'],\n",
    "    y=df['two'],\n",
    "    z=df['three'],\n",
    "    mode='markers',\n",
    "    marker=dict(\n",
    "        size=12,\n",
    "        color=y,                # set color to an array/list of desired values\n",
    "        colorscale='Viridis',   # choose a colorscale\n",
    "        opacity=0.8\n",
    "    )\n",
    ")\n",
    "\n",
    "data = [trace1]\n",
    "layout = go.Layout(\n",
    "    margin=dict(\n",
    "        l=0,\n",
    "        r=0,\n",
    "        b=0,\n",
    "        t=0\n",
    "    )\n",
    ")\n",
    "fig = go.Figure(data=data, layout=layout)\n",
    "py.offline.iplot(fig, filename='3d-scatter-colorscale')"
   ]
  },
  {
   "cell_type": "code",
   "execution_count": null,
   "metadata": {},
   "outputs": [],
   "source": []
  }
 ],
 "metadata": {
  "kernelspec": {
   "display_name": "Python 3",
   "language": "python",
   "name": "python3"
  },
  "language_info": {
   "codemirror_mode": {
    "name": "ipython",
    "version": 3
   },
   "file_extension": ".py",
   "mimetype": "text/x-python",
   "name": "python",
   "nbconvert_exporter": "python",
   "pygments_lexer": "ipython3",
   "version": "3.6.4"
  }
 },
 "nbformat": 4,
 "nbformat_minor": 2
}
