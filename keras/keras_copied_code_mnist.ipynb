{
  "nbformat": 4,
  "nbformat_minor": 0,
  "metadata": {
    "colab": {
      "name": "keras copied code mnist",
      "version": "0.3.2",
      "provenance": []
    },
    "kernelspec": {
      "name": "python3",
      "display_name": "Python 3"
    }
  },
  "cells": [
    {
      "metadata": {
        "id": "mrYw2eAGAuuX",
        "colab_type": "code",
        "outputId": "ad2a5dad-9b08-479c-9681-599771195074",
        "colab": {
          "base_uri": "https://localhost:8080/",
          "height": 272
        }
      },
      "cell_type": "code",
      "source": [
        "# -*- coding: utf-8 -*-\n",
        "\"\"\"\n",
        "Created on Sat Oct 13 12:03:45 2018\n",
        "\n",
        "@author: prabhudayala\n",
        "\"\"\"\n",
        "\n",
        "\n",
        "\n",
        "import tensorflow as tf\n",
        "import time\n",
        "mnist = tf.keras.datasets.mnist\n",
        "\n",
        "(x_train, y_train),(x_test, y_test) = mnist.load_data()\n",
        "x_train, x_test = x_train / 255.0, x_test / 255.0\n",
        "\n",
        "model = tf.keras.models.Sequential([\n",
        "  tf.keras.layers.Flatten(),\n",
        "  tf.keras.layers.Dense(512, activation=tf.nn.relu),\n",
        "  tf.keras.layers.Dropout(0.2),\n",
        "  tf.keras.layers.Dense(10, activation=tf.nn.softmax)\n",
        "])\n",
        "\n",
        "model.compile(optimizer='adam',\n",
        "              loss='sparse_categorical_crossentropy',\n",
        "              metrics=['accuracy'])\n",
        "start = time.time()\n",
        "model.fit(x_train, y_train, epochs=5)\n",
        "print(time.time() - start)\n",
        "model.evaluate(x_test, y_test)\n"
      ],
      "execution_count": 0,
      "outputs": [
        {
          "output_type": "stream",
          "text": [
            "Downloading data from https://storage.googleapis.com/tensorflow/tf-keras-datasets/mnist.npz\n",
            "11493376/11490434 [==============================] - 0s 0us/step\n",
            "Epoch 1/5\n",
            "60000/60000 [==============================] - 12s 204us/step - loss: 0.2004 - acc: 0.9414\n",
            "Epoch 2/5\n",
            "60000/60000 [==============================] - 12s 193us/step - loss: 0.0796 - acc: 0.9753\n",
            "Epoch 3/5\n",
            "60000/60000 [==============================] - 11s 191us/step - loss: 0.0529 - acc: 0.9833\n",
            "Epoch 4/5\n",
            "60000/60000 [==============================] - 12s 206us/step - loss: 0.0365 - acc: 0.9880\n",
            "Epoch 5/5\n",
            "60000/60000 [==============================] - 12s 205us/step - loss: 0.0261 - acc: 0.9923\n",
            "60.3846538066864\n",
            "10000/10000 [==============================] - 1s 50us/step\n"
          ],
          "name": "stdout"
        },
        {
          "output_type": "execute_result",
          "data": {
            "text/plain": [
              "[0.07560716038044775, 0.9781]"
            ]
          },
          "metadata": {
            "tags": []
          },
          "execution_count": 1
        }
      ]
    },
    {
      "metadata": {
        "id": "uAkaeRPGA1U7",
        "colab_type": "code",
        "colab": {}
      },
      "cell_type": "code",
      "source": [
        ""
      ],
      "execution_count": 0,
      "outputs": []
    }
  ]
}