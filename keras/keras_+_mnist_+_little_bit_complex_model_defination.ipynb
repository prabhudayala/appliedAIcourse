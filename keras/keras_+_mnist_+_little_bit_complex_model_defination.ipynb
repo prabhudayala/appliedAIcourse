{
  "nbformat": 4,
  "nbformat_minor": 0,
  "metadata": {
    "colab": {
      "name": "keras + mnist + little bit complex model defination ",
      "version": "0.3.2",
      "provenance": [],
      "collapsed_sections": []
    },
    "kernelspec": {
      "name": "python3",
      "display_name": "Python 3"
    }
  },
  "cells": [
    {
      "metadata": {
        "id": "Of4sY56Fc1_G",
        "colab_type": "code",
        "outputId": "39612145-ff5e-46a8-8c55-e183db2b6615",
        "colab": {
          "base_uri": "https://localhost:8080/",
          "height": 136
        }
      },
      "cell_type": "code",
      "source": [
        "from  keras.utils import np_utils\n",
        "from keras.datasets import mnist\n",
        "import seaborn as sns\n",
        "from keras.initializers import RandomNormal\n",
        "\n",
        "(X_train,y_train) , (X_test,y_test) = mnist.load_data()\n",
        "print(X_train.shape[0])\n",
        "print(X_train.shape[1])\n",
        "print(X_train.shape[2])\n",
        "\n",
        "X_train=X_train.reshape((X_train.shape[0],X_train.shape[1]*X_train.shape[2]))\n",
        "X_test=X_test.reshape((X_test.shape[0],X_test.shape[1]*X_test.shape[2]))\n",
        "\n",
        "print(X_train.shape[0])\n",
        "print(X_train.shape[1])\n",
        "\n",
        "#print(X_train[0])\n",
        "\n",
        "X_train=X_train/255\n",
        "X_test=X_test/255   \n",
        "\n",
        "y_train=np_utils.to_categorical(y_train,10)\n",
        "y_test=np_utils.to_categorical(y_test,10)\n",
        "print(y_train[0])\n"
      ],
      "execution_count": 0,
      "outputs": [
        {
          "output_type": "stream",
          "text": [
            "Using TensorFlow backend.\n"
          ],
          "name": "stderr"
        },
        {
          "output_type": "stream",
          "text": [
            "60000\n",
            "28\n",
            "28\n",
            "60000\n",
            "784\n",
            "[0. 0. 0. 0. 0. 1. 0. 0. 0. 0.]\n"
          ],
          "name": "stdout"
        }
      ]
    },
    {
      "metadata": {
        "id": "tKHl41k3dTrj",
        "colab_type": "code",
        "outputId": "b675acab-76bd-48c1-8237-a2e0cf7afc4f",
        "colab": {
          "base_uri": "https://localhost:8080/",
          "height": 969
        }
      },
      "cell_type": "code",
      "source": [
        "from keras import Sequential\n",
        "from keras.layers.core import Dense, Activation\n",
        "\n",
        "output_dim=10\n",
        "input_dim=X_train.shape[1]\n",
        "batch_size=128\n",
        "epoch_num=20\n",
        "\n",
        "\n",
        "model=Sequential()\n",
        "#model.add(Dense(512,input_dim=input_dim,activation='sigmoid'))\n",
        "model.add(Dense(512,input_shape=(784,),activation='sigmoid'))\n",
        "model.add(Dense(128,activation='sigmoid'))\n",
        "model.add(Dense(output_dim,activation='softmax'))\n",
        "print(model.summary())\n",
        "\n",
        "\n",
        "model.compile(optimizer='adam',loss='categorical_crossentropy',metrics=['accuracy'])\n",
        "model.fit(X_train,y_train,batch_size=batch_size,epochs=epoch_num,validation_data=(X_test,y_test))\n",
        "#print(model.get_weights())\n",
        "#print(model.layers[0].get_weights()[1])"
      ],
      "execution_count": 0,
      "outputs": [
        {
          "output_type": "stream",
          "text": [
            "_________________________________________________________________\n",
            "Layer (type)                 Output Shape              Param #   \n",
            "=================================================================\n",
            "dense_4 (Dense)              (None, 512)               401920    \n",
            "_________________________________________________________________\n",
            "dense_5 (Dense)              (None, 128)               65664     \n",
            "_________________________________________________________________\n",
            "dense_6 (Dense)              (None, 10)                1290      \n",
            "=================================================================\n",
            "Total params: 468,874\n",
            "Trainable params: 468,874\n",
            "Non-trainable params: 0\n",
            "_________________________________________________________________\n",
            "None\n",
            "Train on 60000 samples, validate on 10000 samples\n",
            "Epoch 1/20\n",
            "60000/60000 [==============================] - 8s 127us/step - loss: 0.5396 - acc: 0.8601 - val_loss: 0.2581 - val_acc: 0.9243\n",
            "Epoch 2/20\n",
            "60000/60000 [==============================] - 7s 121us/step - loss: 0.2218 - acc: 0.9350 - val_loss: 0.1860 - val_acc: 0.9462\n",
            "Epoch 3/20\n",
            "60000/60000 [==============================] - 7s 121us/step - loss: 0.1641 - acc: 0.9512 - val_loss: 0.1466 - val_acc: 0.9561\n",
            "Epoch 4/20\n",
            "60000/60000 [==============================] - 7s 121us/step - loss: 0.1249 - acc: 0.9629 - val_loss: 0.1254 - val_acc: 0.9621\n",
            "Epoch 5/20\n",
            "60000/60000 [==============================] - 7s 119us/step - loss: 0.0986 - acc: 0.9703 - val_loss: 0.1059 - val_acc: 0.9676\n",
            "Epoch 6/20\n",
            "60000/60000 [==============================] - 7s 119us/step - loss: 0.0781 - acc: 0.9769 - val_loss: 0.0874 - val_acc: 0.9724\n",
            "Epoch 7/20\n",
            "60000/60000 [==============================] - 7s 118us/step - loss: 0.0634 - acc: 0.9808 - val_loss: 0.0793 - val_acc: 0.9757\n",
            "Epoch 8/20\n",
            "60000/60000 [==============================] - 7s 119us/step - loss: 0.0516 - acc: 0.9849 - val_loss: 0.0760 - val_acc: 0.9769\n",
            "Epoch 9/20\n",
            "60000/60000 [==============================] - 7s 118us/step - loss: 0.0423 - acc: 0.9877 - val_loss: 0.0736 - val_acc: 0.9764\n",
            "Epoch 10/20\n",
            "60000/60000 [==============================] - 7s 119us/step - loss: 0.0337 - acc: 0.9904 - val_loss: 0.0656 - val_acc: 0.9797\n",
            "Epoch 11/20\n",
            "60000/60000 [==============================] - 7s 120us/step - loss: 0.0274 - acc: 0.9926 - val_loss: 0.0647 - val_acc: 0.9799\n",
            "Epoch 12/20\n",
            "60000/60000 [==============================] - 7s 119us/step - loss: 0.0223 - acc: 0.9941 - val_loss: 0.0636 - val_acc: 0.9800\n",
            "Epoch 13/20\n",
            "60000/60000 [==============================] - 7s 118us/step - loss: 0.0180 - acc: 0.9954 - val_loss: 0.0639 - val_acc: 0.9810\n",
            "Epoch 14/20\n",
            "60000/60000 [==============================] - 7s 123us/step - loss: 0.0140 - acc: 0.9968 - val_loss: 0.0658 - val_acc: 0.9803\n",
            "Epoch 15/20\n",
            "60000/60000 [==============================] - 7s 122us/step - loss: 0.0108 - acc: 0.9979 - val_loss: 0.0682 - val_acc: 0.9807\n",
            "Epoch 16/20\n",
            "60000/60000 [==============================] - 7s 120us/step - loss: 0.0085 - acc: 0.9983 - val_loss: 0.0686 - val_acc: 0.9804\n",
            "Epoch 17/20\n",
            "60000/60000 [==============================] - 7s 119us/step - loss: 0.0076 - acc: 0.9981 - val_loss: 0.0698 - val_acc: 0.9800\n",
            "Epoch 18/20\n",
            "60000/60000 [==============================] - 7s 118us/step - loss: 0.0066 - acc: 0.9985 - val_loss: 0.0708 - val_acc: 0.9795\n",
            "Epoch 19/20\n",
            "60000/60000 [==============================] - 7s 118us/step - loss: 0.0039 - acc: 0.9993 - val_loss: 0.0726 - val_acc: 0.9815\n",
            "Epoch 20/20\n",
            "60000/60000 [==============================] - 7s 116us/step - loss: 0.0039 - acc: 0.9993 - val_loss: 0.0743 - val_acc: 0.9806\n"
          ],
          "name": "stdout"
        },
        {
          "output_type": "execute_result",
          "data": {
            "text/plain": [
              "<keras.callbacks.History at 0x7f732b4ecef0>"
            ]
          },
          "metadata": {
            "tags": []
          },
          "execution_count": 3
        }
      ]
    },
    {
      "metadata": {
        "id": "kuAZQK2wdYIn",
        "colab_type": "code",
        "colab": {}
      },
      "cell_type": "code",
      "source": [
        ""
      ],
      "execution_count": 0,
      "outputs": []
    }
  ]
}