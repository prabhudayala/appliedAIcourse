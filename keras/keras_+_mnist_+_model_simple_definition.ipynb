{
  "nbformat": 4,
  "nbformat_minor": 0,
  "metadata": {
    "colab": {
      "name": "keras + mnist + model simple definition",
      "version": "0.3.2",
      "provenance": [],
      "collapsed_sections": []
    },
    "kernelspec": {
      "name": "python3",
      "display_name": "Python 3"
    }
  },
  "cells": [
    {
      "metadata": {
        "id": "7g4EG4i9HxnC",
        "colab_type": "code",
        "outputId": "846c4432-1a33-4f7e-e9c6-530fc7b0f2cc",
        "colab": {
          "base_uri": "https://localhost:8080/",
          "height": 34
        }
      },
      "cell_type": "code",
      "source": [
        "from  keras.utils import np_utils\n",
        "from keras.datasets import mnist\n",
        "import seaborn as sns\n",
        "from keras.initializers import RandomNormal"
      ],
      "execution_count": 0,
      "outputs": [
        {
          "output_type": "stream",
          "text": [
            "Using TensorFlow backend.\n"
          ],
          "name": "stderr"
        }
      ]
    },
    {
      "metadata": {
        "id": "8dIMTpwmIORL",
        "colab_type": "code",
        "outputId": "5bdaf927-4c47-4215-be94-3b01d98d4038",
        "colab": {
          "base_uri": "https://localhost:8080/",
          "height": 102
        }
      },
      "cell_type": "code",
      "source": [
        "(X_train,y_train) , (X_test,y_test) = mnist.load_data()\n",
        "print(X_train.shape[0])\n",
        "print(X_train.shape[1])\n",
        "print(X_train.shape[2])\n"
      ],
      "execution_count": 0,
      "outputs": [
        {
          "output_type": "stream",
          "text": [
            "Downloading data from https://s3.amazonaws.com/img-datasets/mnist.npz\n",
            "11493376/11490434 [==============================] - 1s 0us/step\n",
            "60000\n",
            "28\n",
            "28\n"
          ],
          "name": "stdout"
        }
      ]
    },
    {
      "metadata": {
        "id": "YdVgou8sMtcx",
        "colab_type": "code",
        "outputId": "6ae0aa2e-5a6d-458c-eae0-72fe5952f0d7",
        "colab": {
          "base_uri": "https://localhost:8080/",
          "height": 799
        }
      },
      "cell_type": "code",
      "source": [
        "X_train=X_train.reshape((X_train.shape[0],X_train.shape[1]*X_train.shape[2]))\n",
        "X_test=X_test.reshape((X_test.shape[0],X_test.shape[1]*X_test.shape[2]))\n",
        "\n",
        "print(X_train.shape[0])\n",
        "print(X_train.shape[1])\n",
        "\n",
        "print(X_train[0])\n"
      ],
      "execution_count": 0,
      "outputs": [
        {
          "output_type": "stream",
          "text": [
            "60000\n",
            "784\n",
            "[  0   0   0   0   0   0   0   0   0   0   0   0   0   0   0   0   0   0\n",
            "   0   0   0   0   0   0   0   0   0   0   0   0   0   0   0   0   0   0\n",
            "   0   0   0   0   0   0   0   0   0   0   0   0   0   0   0   0   0   0\n",
            "   0   0   0   0   0   0   0   0   0   0   0   0   0   0   0   0   0   0\n",
            "   0   0   0   0   0   0   0   0   0   0   0   0   0   0   0   0   0   0\n",
            "   0   0   0   0   0   0   0   0   0   0   0   0   0   0   0   0   0   0\n",
            "   0   0   0   0   0   0   0   0   0   0   0   0   0   0   0   0   0   0\n",
            "   0   0   0   0   0   0   0   0   0   0   0   0   0   0   0   0   0   0\n",
            "   0   0   0   0   0   0   0   0   3  18  18  18 126 136 175  26 166 255\n",
            " 247 127   0   0   0   0   0   0   0   0   0   0   0   0  30  36  94 154\n",
            " 170 253 253 253 253 253 225 172 253 242 195  64   0   0   0   0   0   0\n",
            "   0   0   0   0   0  49 238 253 253 253 253 253 253 253 253 251  93  82\n",
            "  82  56  39   0   0   0   0   0   0   0   0   0   0   0   0  18 219 253\n",
            " 253 253 253 253 198 182 247 241   0   0   0   0   0   0   0   0   0   0\n",
            "   0   0   0   0   0   0   0   0  80 156 107 253 253 205  11   0  43 154\n",
            "   0   0   0   0   0   0   0   0   0   0   0   0   0   0   0   0   0   0\n",
            "   0  14   1 154 253  90   0   0   0   0   0   0   0   0   0   0   0   0\n",
            "   0   0   0   0   0   0   0   0   0   0   0   0   0 139 253 190   2   0\n",
            "   0   0   0   0   0   0   0   0   0   0   0   0   0   0   0   0   0   0\n",
            "   0   0   0   0   0  11 190 253  70   0   0   0   0   0   0   0   0   0\n",
            "   0   0   0   0   0   0   0   0   0   0   0   0   0   0   0   0  35 241\n",
            " 225 160 108   1   0   0   0   0   0   0   0   0   0   0   0   0   0   0\n",
            "   0   0   0   0   0   0   0   0   0  81 240 253 253 119  25   0   0   0\n",
            "   0   0   0   0   0   0   0   0   0   0   0   0   0   0   0   0   0   0\n",
            "   0   0  45 186 253 253 150  27   0   0   0   0   0   0   0   0   0   0\n",
            "   0   0   0   0   0   0   0   0   0   0   0   0   0  16  93 252 253 187\n",
            "   0   0   0   0   0   0   0   0   0   0   0   0   0   0   0   0   0   0\n",
            "   0   0   0   0   0   0   0 249 253 249  64   0   0   0   0   0   0   0\n",
            "   0   0   0   0   0   0   0   0   0   0   0   0   0   0  46 130 183 253\n",
            " 253 207   2   0   0   0   0   0   0   0   0   0   0   0   0   0   0   0\n",
            "   0   0   0   0  39 148 229 253 253 253 250 182   0   0   0   0   0   0\n",
            "   0   0   0   0   0   0   0   0   0   0   0   0  24 114 221 253 253 253\n",
            " 253 201  78   0   0   0   0   0   0   0   0   0   0   0   0   0   0   0\n",
            "   0   0  23  66 213 253 253 253 253 198  81   2   0   0   0   0   0   0\n",
            "   0   0   0   0   0   0   0   0   0   0  18 171 219 253 253 253 253 195\n",
            "  80   9   0   0   0   0   0   0   0   0   0   0   0   0   0   0   0   0\n",
            "  55 172 226 253 253 253 253 244 133  11   0   0   0   0   0   0   0   0\n",
            "   0   0   0   0   0   0   0   0   0   0 136 253 253 253 212 135 132  16\n",
            "   0   0   0   0   0   0   0   0   0   0   0   0   0   0   0   0   0   0\n",
            "   0   0   0   0   0   0   0   0   0   0   0   0   0   0   0   0   0   0\n",
            "   0   0   0   0   0   0   0   0   0   0   0   0   0   0   0   0   0   0\n",
            "   0   0   0   0   0   0   0   0   0   0   0   0   0   0   0   0   0   0\n",
            "   0   0   0   0   0   0   0   0   0   0   0   0   0   0   0   0   0   0\n",
            "   0   0   0   0   0   0   0   0   0   0]\n"
          ],
          "name": "stdout"
        }
      ]
    },
    {
      "metadata": {
        "id": "iTGNCwjWMxBJ",
        "colab_type": "code",
        "outputId": "fd8ec673-5571-4373-fd64-4430f1b0b83f",
        "colab": {
          "base_uri": "https://localhost:8080/",
          "height": 34
        }
      },
      "cell_type": "code",
      "source": [
        "X_train=X_train/255\n",
        "X_test=X_test/255   \n",
        "\n",
        "y_train=np_utils.to_categorical(y_train,10)\n",
        "y_test=np_utils.to_categorical(y_test,10)\n",
        "print(y_train[0])\n"
      ],
      "execution_count": 0,
      "outputs": [
        {
          "output_type": "stream",
          "text": [
            "[0. 0. 0. 0. 0. 1. 0. 0. 0. 0.]\n"
          ],
          "name": "stdout"
        }
      ]
    },
    {
      "metadata": {
        "id": "aI3D_ysOM0rz",
        "colab_type": "code",
        "colab": {}
      },
      "cell_type": "code",
      "source": [
        "\n",
        "from keras import Sequential\n",
        "from keras.layers.core import Dense, Activation\n"
      ],
      "execution_count": 0,
      "outputs": []
    },
    {
      "metadata": {
        "id": "JXl4dvhOcncr",
        "colab_type": "code",
        "colab": {}
      },
      "cell_type": "code",
      "source": [
        "output_dim=10\n",
        "input_dim=X_train.shape[1]\n",
        "batch_size=128\n",
        "epoch_num=20\n"
      ],
      "execution_count": 0,
      "outputs": []
    },
    {
      "metadata": {
        "id": "bbJ_qbM9cq7Y",
        "colab_type": "code",
        "outputId": "dfea7af5-99b1-4b1b-ba08-ba0ec5598476",
        "colab": {
          "base_uri": "https://localhost:8080/",
          "height": 731
        }
      },
      "cell_type": "code",
      "source": [
        "model=Sequential()\n",
        "model.add(Dense(output_dim,input_dim=input_dim,activation='softmax'))\n",
        "model.compile(optimizer='adam',loss='categorical_crossentropy',metrics=['accuracy'])\n",
        "model.fit(X_train,y_train,batch_size=batch_size,epochs=epoch_num,validation_data=(X_test,y_test))\n"
      ],
      "execution_count": 0,
      "outputs": [
        {
          "output_type": "stream",
          "text": [
            "Train on 60000 samples, validate on 10000 samples\n",
            "Epoch 1/20\n",
            "60000/60000 [==============================] - 2s 27us/step - loss: 0.6874 - acc: 0.8283 - val_loss: 0.3846 - val_acc: 0.9021\n",
            "Epoch 2/20\n",
            "60000/60000 [==============================] - 2s 27us/step - loss: 0.3624 - acc: 0.9027 - val_loss: 0.3224 - val_acc: 0.9126\n",
            "Epoch 3/20\n",
            "60000/60000 [==============================] - 2s 26us/step - loss: 0.3196 - acc: 0.9118 - val_loss: 0.2969 - val_acc: 0.9173\n",
            "Epoch 4/20\n",
            "60000/60000 [==============================] - 2s 27us/step - loss: 0.2997 - acc: 0.9165 - val_loss: 0.2841 - val_acc: 0.9212\n",
            "Epoch 5/20\n",
            "60000/60000 [==============================] - 1s 22us/step - loss: 0.2877 - acc: 0.9205 - val_loss: 0.2771 - val_acc: 0.9245\n",
            "Epoch 6/20\n",
            "60000/60000 [==============================] - 1s 22us/step - loss: 0.2798 - acc: 0.9223 - val_loss: 0.2740 - val_acc: 0.9247\n",
            "Epoch 7/20\n",
            "60000/60000 [==============================] - 1s 22us/step - loss: 0.2737 - acc: 0.9244 - val_loss: 0.2705 - val_acc: 0.9243\n",
            "Epoch 8/20\n",
            "60000/60000 [==============================] - 1s 23us/step - loss: 0.2692 - acc: 0.9249 - val_loss: 0.2690 - val_acc: 0.9250\n",
            "Epoch 9/20\n",
            "60000/60000 [==============================] - 1s 22us/step - loss: 0.2654 - acc: 0.9261 - val_loss: 0.2664 - val_acc: 0.9256\n",
            "Epoch 10/20\n",
            "60000/60000 [==============================] - 1s 22us/step - loss: 0.2622 - acc: 0.9274 - val_loss: 0.2656 - val_acc: 0.9265\n",
            "Epoch 11/20\n",
            "60000/60000 [==============================] - 1s 21us/step - loss: 0.2597 - acc: 0.9282 - val_loss: 0.2652 - val_acc: 0.9266\n",
            "Epoch 12/20\n",
            "60000/60000 [==============================] - 1s 23us/step - loss: 0.2575 - acc: 0.9290 - val_loss: 0.2653 - val_acc: 0.9265\n",
            "Epoch 13/20\n",
            "60000/60000 [==============================] - 1s 23us/step - loss: 0.2554 - acc: 0.9289 - val_loss: 0.2627 - val_acc: 0.9266\n",
            "Epoch 14/20\n",
            "60000/60000 [==============================] - 1s 23us/step - loss: 0.2537 - acc: 0.9299 - val_loss: 0.2627 - val_acc: 0.9274\n",
            "Epoch 15/20\n",
            "60000/60000 [==============================] - 1s 23us/step - loss: 0.2514 - acc: 0.9304 - val_loss: 0.2618 - val_acc: 0.9282\n",
            "Epoch 16/20\n",
            "60000/60000 [==============================] - 1s 24us/step - loss: 0.2503 - acc: 0.9306 - val_loss: 0.2613 - val_acc: 0.9282\n",
            "Epoch 17/20\n",
            "60000/60000 [==============================] - 2s 26us/step - loss: 0.2487 - acc: 0.9313 - val_loss: 0.2616 - val_acc: 0.9280\n",
            "Epoch 18/20\n",
            "60000/60000 [==============================] - 1s 24us/step - loss: 0.2479 - acc: 0.9318 - val_loss: 0.2604 - val_acc: 0.9283\n",
            "Epoch 19/20\n",
            "60000/60000 [==============================] - 1s 24us/step - loss: 0.2468 - acc: 0.9317 - val_loss: 0.2621 - val_acc: 0.9274\n",
            "Epoch 20/20\n",
            "60000/60000 [==============================] - 1s 23us/step - loss: 0.2459 - acc: 0.9320 - val_loss: 0.2624 - val_acc: 0.9278\n"
          ],
          "name": "stdout"
        },
        {
          "output_type": "execute_result",
          "data": {
            "text/plain": [
              "<keras.callbacks.History at 0x7fcc8a46dcf8>"
            ]
          },
          "metadata": {
            "tags": []
          },
          "execution_count": 7
        }
      ]
    },
    {
      "metadata": {
        "id": "KEhGiIF1csxl",
        "colab_type": "code",
        "colab": {}
      },
      "cell_type": "code",
      "source": [
        ""
      ],
      "execution_count": 0,
      "outputs": []
    }
  ]
}